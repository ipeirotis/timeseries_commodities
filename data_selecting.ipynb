{
  "cells": [
    {
      "cell_type": "code",
      "execution_count": 1,
      "metadata": {
        "cellView": "form",
        "id": "w6MmeBUBJ-9E"
      },
      "outputs": [],
      "source": [
        "# @title Setup\n",
        "from google.colab import auth\n",
        "from google.cloud import bigquery\n",
        "from google.colab import data_table\n",
        "\n",
        "project = 'commodities-s4' # Project ID inserted based on the query results selected to explore\n",
        "location = 'US' # Location inserted based on the query results selected to explore\n",
        "client = bigquery.Client(project=project, location=location)\n",
        "data_table.enable_dataframe_formatter()\n",
        "auth.authenticate_user()"
      ]
    },
    {
      "cell_type": "code",
      "execution_count": null,
      "metadata": {
        "id": "KxSqPfAeXW_K"
      },
      "outputs": [],
      "source": [
        "# Running this code will display the query used to generate your previous job\n",
        "\n",
        "job = client.get_job('bquxjob_4462b5d_188b33f6f40') # Job ID inserted based on the query results selected to explore\n",
        "print(job.query)"
      ]
    },
    {
      "cell_type": "code",
      "execution_count": 3,
      "metadata": {
        "id": "bIw82qhuHWy0"
      },
      "outputs": [],
      "source": [
        "# Running this code will read results from your previous job\n",
        "\n",
        "job = client.get_job('bquxjob_4462b5d_188b33f6f40') # Job ID inserted based on the query results selected to explore\n",
        "results = job.to_dataframe()\n",
        "names=set(results[\"DSMnemonic\"])\n",
        "names=list(names)"
      ]
    },
    {
      "cell_type": "code",
      "source": [],
      "metadata": {
        "id": "1QMUPzkVR-6x"
      },
      "execution_count": null,
      "outputs": []
    },
    {
      "cell_type": "code",
      "source": [
        "import random\n",
        "import pandas as pd\n",
        "\n",
        "def select(names,num,results):\n",
        "  l=[]\n",
        "  for i in range(num):\n",
        "    l.append(random.randint(0,len(names)))\n",
        "  nam=[names[i] for i in l]\n",
        "  datas=[]\n",
        "  start=int(random.randint(0,9)/10*1500)\n",
        "  end=start+random.randint(300,3000-start)\n",
        "  print(\"start=%s,end=%s\"%(start,end))\n",
        "  datamain=results.query(\"DSMnemonic=='%s'\"%nam[0])\n",
        "  datamain=datamain[[\"Date_\",\"Close_\"]]\n",
        "  datamain.drop_duplicates(subset=[\"Date_\"], keep='first', inplace=True)\n",
        "  datamain=datamain.sort_values(by=\"Date_\")\n",
        "  datamain[\"Date_\"]=pd.to_datetime(datamain[\"Date_\"])\n",
        "  datamain[\"Close_\"] = pd.to_numeric(datamain[\"Close_\"])\n",
        "  datamain=datamain[start:end]\n",
        "  datamain=datamain.rename(columns={\"Date_\": \"ds\", \"Close_\": \"%s\"%nam[0]})\n",
        "\n",
        "  for name in nam:\n",
        "    if name ==nam[0]:\n",
        "      continue\n",
        "    data=results.query(\"DSMnemonic=='%s'\"%name)\n",
        "    data=data[[\"Date_\",\"Close_\"]]\n",
        "    data.drop_duplicates(subset=[\"Date_\"], keep='first', inplace=True)\n",
        "    data=data.sort_values(by=\"Date_\")\n",
        "    data[\"Date_\"]=pd.to_datetime(data[\"Date_\"])\n",
        "    data[\"Close_\"] = pd.to_numeric(data[\"Close_\"])\n",
        "    data=data[start:end]\n",
        "    data=data.rename(columns={\"Date_\": \"ds\", \"Close_\": \"%s\"%name})\n",
        "    datamain=pd.merge(datamain,data,on=\"ds\", how=\"outer\")\n",
        "  return datamain"
      ],
      "metadata": {
        "id": "uktG8W8xQQZZ"
      },
      "execution_count": 11,
      "outputs": []
    },
    {
      "cell_type": "code",
      "source": [
        "from google.colab import files\n",
        "df=select(names,200,results)\n",
        "df.to_csv('data_3.csv')\n",
        "files.download('data_3.csv')"
      ],
      "metadata": {
        "colab": {
          "base_uri": "https://localhost:8080/",
          "height": 35
        },
        "id": "eXMAQDlTTZGY",
        "outputId": "3f3436de-eabe-48be-c654-f51dc641a2a2"
      },
      "execution_count": 12,
      "outputs": [
        {
          "output_type": "stream",
          "name": "stdout",
          "text": [
            "start=600,end=2770\n"
          ]
        },
        {
          "output_type": "display_data",
          "data": {
            "text/plain": [
              "<IPython.core.display.Javascript object>"
            ],
            "application/javascript": [
              "\n",
              "    async function download(id, filename, size) {\n",
              "      if (!google.colab.kernel.accessAllowed) {\n",
              "        return;\n",
              "      }\n",
              "      const div = document.createElement('div');\n",
              "      const label = document.createElement('label');\n",
              "      label.textContent = `Downloading \"${filename}\": `;\n",
              "      div.appendChild(label);\n",
              "      const progress = document.createElement('progress');\n",
              "      progress.max = size;\n",
              "      div.appendChild(progress);\n",
              "      document.body.appendChild(div);\n",
              "\n",
              "      const buffers = [];\n",
              "      let downloaded = 0;\n",
              "\n",
              "      const channel = await google.colab.kernel.comms.open(id);\n",
              "      // Send a message to notify the kernel that we're ready.\n",
              "      channel.send({})\n",
              "\n",
              "      for await (const message of channel.messages) {\n",
              "        // Send a message to notify the kernel that we're ready.\n",
              "        channel.send({})\n",
              "        if (message.buffers) {\n",
              "          for (const buffer of message.buffers) {\n",
              "            buffers.push(buffer);\n",
              "            downloaded += buffer.byteLength;\n",
              "            progress.value = downloaded;\n",
              "          }\n",
              "        }\n",
              "      }\n",
              "      const blob = new Blob(buffers, {type: 'application/binary'});\n",
              "      const a = document.createElement('a');\n",
              "      a.href = window.URL.createObjectURL(blob);\n",
              "      a.download = filename;\n",
              "      div.appendChild(a);\n",
              "      a.click();\n",
              "      div.remove();\n",
              "    }\n",
              "  "
            ]
          },
          "metadata": {}
        },
        {
          "output_type": "display_data",
          "data": {
            "text/plain": [
              "<IPython.core.display.Javascript object>"
            ],
            "application/javascript": [
              "download(\"download_10e4696d-45b7-412c-8197-cf278bbb64f3\", \"data_3.csv\", 4134822)"
            ]
          },
          "metadata": {}
        }
      ]
    }
  ],
  "metadata": {
    "colab": {
      "cell_execution_strategy": "setup",
      "provenance": []
    },
    "kernelspec": {
      "display_name": "Python 3",
      "name": "python3"
    },
    "language_info": {
      "name": "python"
    }
  },
  "nbformat": 4,
  "nbformat_minor": 0
}